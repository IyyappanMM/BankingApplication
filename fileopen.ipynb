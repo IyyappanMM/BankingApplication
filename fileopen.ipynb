{
  "nbformat": 4,
  "nbformat_minor": 0,
  "metadata": {
    "colab": {
      "provenance": [],
      "collapsed_sections": [],
      "authorship_tag": "ABX9TyP6nHIv08IP27ca9dO7uDB/",
      "include_colab_link": true
    },
    "kernelspec": {
      "name": "python3",
      "display_name": "Python 3"
    },
    "language_info": {
      "name": "python"
    }
  },
  "cells": [
    {
      "cell_type": "markdown",
      "metadata": {
        "id": "view-in-github",
        "colab_type": "text"
      },
      "source": [
        "<a href=\"https://colab.research.google.com/github/IyyappanMM/BankingApplication/blob/master/fileopen.ipynb\" target=\"_parent\"><img src=\"https://colab.research.google.com/assets/colab-badge.svg\" alt=\"Open In Colab\"/></a>"
      ]
    },
    {
      "cell_type": "code",
      "execution_count": 1,
      "metadata": {
        "id": "P-_yT_h9TmfF"
      },
      "outputs": [],
      "source": [
        "# Code to read csv file into colaboratory:\n",
        "!pip install -U -q PyDrive\n",
        "from pydrive.auth import GoogleAuth\n",
        "from pydrive.drive import GoogleDrive\n",
        "from google.colab import auth\n",
        "from oauth2client.client import GoogleCredentials"
      ]
    },
    {
      "cell_type": "code",
      "source": [
        "auth.authenticate_user()\n",
        "gauth = GoogleAuth()\n",
        "gauth.credentials = GoogleCredentials.get_application_default()\n",
        "drive = GoogleDrive(gauth)"
      ],
      "metadata": {
        "id": "FTu8K6OiTwwO"
      },
      "execution_count": 2,
      "outputs": []
    },
    {
      "cell_type": "code",
      "source": [],
      "metadata": {
        "id": "fXIZRHRIT8D3"
      },
      "execution_count": null,
      "outputs": []
    },
    {
      "cell_type": "code",
      "source": [
        "#2.1 Get the file\n",
        "downloaded = drive.CreateFile({'id':'1BxDkRM7RWOyc9q5Rj641yJkRl885TCJb'}) # replace the id with id of file you want to access\n",
        "downloaded.GetContentFile('Colors.txt') "
      ],
      "metadata": {
        "id": "3w5W-t2KUKr5"
      },
      "execution_count": 14,
      "outputs": []
    },
    {
      "cell_type": "code",
      "source": [
        "import pandas as pd\n",
        "xyz = pd.read_csv('Colors.txt') \n",
        "print(xyz)"
      ],
      "metadata": {
        "colab": {
          "base_uri": "https://localhost:8080/"
        },
        "id": "TqBsQI9HgW6q",
        "outputId": "e867d0ef-a46b-4132-98b5-37a43ce6cb4f"
      },
      "execution_count": 27,
      "outputs": [
        {
          "output_type": "stream",
          "name": "stdout",
          "text": [
            "  Color\\tValue\n",
            "0       Red\\t1\n",
            "1    Orange\\t2\n",
            "2    Yellow\\t3\n",
            "3     Green\\t4\n",
            "4      Blue\\t5\n",
            "5    Purple\\t6\n",
            "6     Black\\t7\n",
            "7     White\\t8\n"
          ]
        }
      ]
    },
    {
      "cell_type": "code",
      "source": [
        "f = open(\"Colors.txt\")\n",
        "print(f.read())\n"
      ],
      "metadata": {
        "colab": {
          "base_uri": "https://localhost:8080/"
        },
        "id": "Iq0eG_wijPUc",
        "outputId": "674d8ce9-0952-4fc8-edf8-748f2b50f68d"
      },
      "execution_count": 30,
      "outputs": [
        {
          "output_type": "stream",
          "name": "stdout",
          "text": [
            "Color\tValue\n",
            "Red\t1\n",
            "Orange\t2\n",
            "Yellow\t3\n",
            "Green\t4\n",
            "Blue\t5\n",
            "Purple\t6\n",
            "Black\t7\n",
            "White\t8\n"
          ]
        }
      ]
    },
    {
      "cell_type": "code",
      "source": [
        "# a file named \"Colors\", will be opened with the reading mode.\n",
        "file = open('Colors.txt', 'r')\n",
        "#print(file.read())\n",
        "# This will print every line one by one in the file\n",
        "#for each in file:\n",
        "# \tprint (each)\n",
        "#print (file.read(8))\n"
      ],
      "metadata": {
        "colab": {
          "base_uri": "https://localhost:8080/"
        },
        "id": "18Aw9VAVkoJQ",
        "outputId": "5057552d-9376-4bcc-81fe-341cae3f867f"
      },
      "execution_count": 56,
      "outputs": [
        {
          "output_type": "stream",
          "name": "stdout",
          "text": [
            "Color\tVa\n"
          ]
        }
      ]
    },
    {
      "cell_type": "code",
      "source": [
        "#File write mode \n",
        "file = open('Colors.txt', 'w')\n",
        "file.write(\"This is the updated informatio in the file\")\n",
        "#print(file.open())\n",
        "file.write(\"Successfully updated the information\")\n",
        "file.close()\n",
        "file.open()\n",
        "\n",
        "\"\"\"\n",
        "# Python code to illustrate append() mode\n",
        "file = open('Colors.txt','a')\n",
        "file.write(\"This will add this line\")\n",
        "file.close()\n",
        "\"\"\"\n",
        "\"\"\"\n",
        "# Python code to illustrate with()\n",
        "with open(\"Colors.txt\") as file: \n",
        "    data = file.read()\n",
        "    print(data)\n",
        "# do something with data\n",
        "\"\"\"\n"
      ],
      "metadata": {
        "colab": {
          "base_uri": "https://localhost:8080/",
          "height": 235
        },
        "id": "uFGZqjX0mWrg",
        "outputId": "14efbe89-e5a9-454b-9dda-48c737dfb1a5"
      },
      "execution_count": 75,
      "outputs": [
        {
          "output_type": "error",
          "ename": "AttributeError",
          "evalue": "ignored",
          "traceback": [
            "\u001b[0;31m---------------------------------------------------------------------------\u001b[0m",
            "\u001b[0;31mAttributeError\u001b[0m                            Traceback (most recent call last)",
            "\u001b[0;32m<ipython-input-75-c90b8feefefc>\u001b[0m in \u001b[0;36m<module>\u001b[0;34m\u001b[0m\n\u001b[1;32m      5\u001b[0m \u001b[0mfile\u001b[0m\u001b[0;34m.\u001b[0m\u001b[0mwrite\u001b[0m\u001b[0;34m(\u001b[0m\u001b[0;34m\"Successfully updated the information\"\u001b[0m\u001b[0;34m)\u001b[0m\u001b[0;34m\u001b[0m\u001b[0;34m\u001b[0m\u001b[0m\n\u001b[1;32m      6\u001b[0m \u001b[0mfile\u001b[0m\u001b[0;34m.\u001b[0m\u001b[0mclose\u001b[0m\u001b[0;34m(\u001b[0m\u001b[0;34m)\u001b[0m\u001b[0;34m\u001b[0m\u001b[0;34m\u001b[0m\u001b[0m\n\u001b[0;32m----> 7\u001b[0;31m \u001b[0mfile\u001b[0m\u001b[0;34m.\u001b[0m\u001b[0mopen\u001b[0m\u001b[0;34m(\u001b[0m\u001b[0;34m)\u001b[0m\u001b[0;34m\u001b[0m\u001b[0;34m\u001b[0m\u001b[0m\n\u001b[0m\u001b[1;32m      8\u001b[0m \u001b[0;34m\u001b[0m\u001b[0m\n\u001b[1;32m      9\u001b[0m \"\"\"\n",
            "\u001b[0;31mAttributeError\u001b[0m: '_io.TextIOWrapper' object has no attribute 'open'"
          ]
        }
      ]
    }
  ]
}